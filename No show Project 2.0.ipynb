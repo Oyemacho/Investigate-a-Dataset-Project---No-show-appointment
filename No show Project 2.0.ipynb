{
 "cells": [
  {
   "cell_type": "markdown",
   "id": "e93139fd",
   "metadata": {},
   "source": [
    "# PROJECT: Investigate a Dataset - [No-show appointments]"
   ]
  },
  {
   "cell_type": "markdown",
   "id": "5fb625bb",
   "metadata": {},
   "source": [
    "## Table of Contents¶\n",
    "<ul>\n",
    "<li><a href=\"#intro\">Introduction</a></li>\n",
    "<li><a href=\"#wrangling\">Data Wrangling</a></li>\n",
    "<li><a href=\"#eda\">Exploratory Data Analysis</a></li>\n",
    "<li><a href=\"#conclusions\">Conclusions</a></li>\n",
    "</ul>"
   ]
  },
  {
   "cell_type": "markdown",
   "id": "174f813b",
   "metadata": {},
   "source": [
    "## INTRODUCTION\n",
    "\n",
    "### Dataset Description\n",
    "\n",
    "This dataset collects information from 100k medical appointments in Brazil and is focused on the question of whether or not patients show up for their appointment. A number of characteristics about the patient are included in each row.\n",
    "\n",
    ">**AppointmentDay** tells us on what day the patient set up their next appointment.\n",
    "\n",
    ">**Age** tells patients age\n",
    "\n",
    ">**ScheduledDay** tells us on what day the patient set up their appointment.\n",
    "\n",
    ">**Neighborhood** indicates the location of the hospital.\n",
    "\n",
    ">**Scholarship** indicates whether or not the patient is enrolled in Brasilian welfare program Bolsa Família.\n",
    "\n",
    ">**Hypertension** indiactes patient is ailing with hypertension\n",
    "\n",
    ">**Diabetes** indiactes patient is ailing with diabetes\n",
    "\n",
    ">**Alcoholism** indiactes patient has alcoholic problems\n",
    "\n",
    ">**Handicap** indiactes patient is handicapped\n",
    "\n",
    ">**SMS_received** indiactes number of reminder text messages sent to patient\n",
    "\n",
    ">**No show** Encoding of the last column: it says ‘No’ if the patient showed up to their appointment, and ‘Yes’ if they did not show up.\n",
    "\n",
    "### Question(s) for Analysis\n",
    ">**1** What is the age distribution of patients that did/didnt show up for their appointmensts?\n",
    "\n",
    ">**2** Which of the patients with medical conditions registered the most no-show appointments (correlation existing between medical condition and no_show)\n",
    "\n",
    ">**3** What is the proportion of all the patient's attributes in the datset? \n",
    "\n",
    ">**4** What is the relationship between age/gender and the diabetic condition of patients"
   ]
  },
  {
   "cell_type": "markdown",
   "id": "2ad0c15c",
   "metadata": {},
   "source": [
    "### importing statements for all the packages"
   ]
  },
  {
   "cell_type": "code",
   "execution_count": 1,
   "id": "c8b4c697",
   "metadata": {},
   "outputs": [],
   "source": [
    "import numpy as np\n",
    "import pandas as pd\n",
    "import seaborn as sns\n",
    "import matplotlib.pyplot as plt\n",
    "%matplotlib inline"
   ]
  },
  {
   "cell_type": "markdown",
   "id": "3bbf199e",
   "metadata": {},
   "source": [
    "<a id='wrangling'></a>\n",
    "## Data Wrangling\n",
    "\n",
    "> **Tip**: In this section of the report, you will load in the data, check for cleanliness, and then trim and clean your dataset for analysis. Make sure that you **document your data cleaning steps in mark-down cells precisely and justify your cleaning decisions.**\n",
    "\n",
    "\n",
    "### General Properties"
   ]
  },
  {
   "cell_type": "code",
   "execution_count": 2,
   "id": "ebf062f7",
   "metadata": {},
   "outputs": [],
   "source": [
    "#Importing Data into Machine\n",
    "df = pd.read_csv('/Users/user/Desktop/UDACITY_PROJECT/noshowappointments-kagglev2-may-2016.csv')"
   ]
  },
  {
   "cell_type": "code",
   "execution_count": 3,
   "id": "afd6b819",
   "metadata": {},
   "outputs": [
    {
     "data": {
      "text/html": [
       "<div>\n",
       "<style scoped>\n",
       "    .dataframe tbody tr th:only-of-type {\n",
       "        vertical-align: middle;\n",
       "    }\n",
       "\n",
       "    .dataframe tbody tr th {\n",
       "        vertical-align: top;\n",
       "    }\n",
       "\n",
       "    .dataframe thead th {\n",
       "        text-align: right;\n",
       "    }\n",
       "</style>\n",
       "<table border=\"1\" class=\"dataframe\">\n",
       "  <thead>\n",
       "    <tr style=\"text-align: right;\">\n",
       "      <th></th>\n",
       "      <th>PatientId</th>\n",
       "      <th>AppointmentID</th>\n",
       "      <th>Gender</th>\n",
       "      <th>ScheduledDay</th>\n",
       "      <th>AppointmentDay</th>\n",
       "      <th>Age</th>\n",
       "      <th>Neighbourhood</th>\n",
       "      <th>Scholarship</th>\n",
       "      <th>Hipertension</th>\n",
       "      <th>Diabetes</th>\n",
       "      <th>Alcoholism</th>\n",
       "      <th>Handcap</th>\n",
       "      <th>SMS_received</th>\n",
       "      <th>No-show</th>\n",
       "    </tr>\n",
       "  </thead>\n",
       "  <tbody>\n",
       "    <tr>\n",
       "      <th>0</th>\n",
       "      <td>2.987250e+13</td>\n",
       "      <td>5642903</td>\n",
       "      <td>F</td>\n",
       "      <td>2016-04-29T18:38:08Z</td>\n",
       "      <td>2016-04-29T00:00:00Z</td>\n",
       "      <td>62</td>\n",
       "      <td>JARDIM DA PENHA</td>\n",
       "      <td>0</td>\n",
       "      <td>1</td>\n",
       "      <td>0</td>\n",
       "      <td>0</td>\n",
       "      <td>0</td>\n",
       "      <td>0</td>\n",
       "      <td>No</td>\n",
       "    </tr>\n",
       "    <tr>\n",
       "      <th>1</th>\n",
       "      <td>5.589978e+14</td>\n",
       "      <td>5642503</td>\n",
       "      <td>M</td>\n",
       "      <td>2016-04-29T16:08:27Z</td>\n",
       "      <td>2016-04-29T00:00:00Z</td>\n",
       "      <td>56</td>\n",
       "      <td>JARDIM DA PENHA</td>\n",
       "      <td>0</td>\n",
       "      <td>0</td>\n",
       "      <td>0</td>\n",
       "      <td>0</td>\n",
       "      <td>0</td>\n",
       "      <td>0</td>\n",
       "      <td>No</td>\n",
       "    </tr>\n",
       "    <tr>\n",
       "      <th>2</th>\n",
       "      <td>4.262962e+12</td>\n",
       "      <td>5642549</td>\n",
       "      <td>F</td>\n",
       "      <td>2016-04-29T16:19:04Z</td>\n",
       "      <td>2016-04-29T00:00:00Z</td>\n",
       "      <td>62</td>\n",
       "      <td>MATA DA PRAIA</td>\n",
       "      <td>0</td>\n",
       "      <td>0</td>\n",
       "      <td>0</td>\n",
       "      <td>0</td>\n",
       "      <td>0</td>\n",
       "      <td>0</td>\n",
       "      <td>No</td>\n",
       "    </tr>\n",
       "    <tr>\n",
       "      <th>3</th>\n",
       "      <td>8.679512e+11</td>\n",
       "      <td>5642828</td>\n",
       "      <td>F</td>\n",
       "      <td>2016-04-29T17:29:31Z</td>\n",
       "      <td>2016-04-29T00:00:00Z</td>\n",
       "      <td>8</td>\n",
       "      <td>PONTAL DE CAMBURI</td>\n",
       "      <td>0</td>\n",
       "      <td>0</td>\n",
       "      <td>0</td>\n",
       "      <td>0</td>\n",
       "      <td>0</td>\n",
       "      <td>0</td>\n",
       "      <td>No</td>\n",
       "    </tr>\n",
       "    <tr>\n",
       "      <th>4</th>\n",
       "      <td>8.841186e+12</td>\n",
       "      <td>5642494</td>\n",
       "      <td>F</td>\n",
       "      <td>2016-04-29T16:07:23Z</td>\n",
       "      <td>2016-04-29T00:00:00Z</td>\n",
       "      <td>56</td>\n",
       "      <td>JARDIM DA PENHA</td>\n",
       "      <td>0</td>\n",
       "      <td>1</td>\n",
       "      <td>1</td>\n",
       "      <td>0</td>\n",
       "      <td>0</td>\n",
       "      <td>0</td>\n",
       "      <td>No</td>\n",
       "    </tr>\n",
       "  </tbody>\n",
       "</table>\n",
       "</div>"
      ],
      "text/plain": [
       "      PatientId  AppointmentID Gender          ScheduledDay  \\\n",
       "0  2.987250e+13        5642903      F  2016-04-29T18:38:08Z   \n",
       "1  5.589978e+14        5642503      M  2016-04-29T16:08:27Z   \n",
       "2  4.262962e+12        5642549      F  2016-04-29T16:19:04Z   \n",
       "3  8.679512e+11        5642828      F  2016-04-29T17:29:31Z   \n",
       "4  8.841186e+12        5642494      F  2016-04-29T16:07:23Z   \n",
       "\n",
       "         AppointmentDay  Age      Neighbourhood  Scholarship  Hipertension  \\\n",
       "0  2016-04-29T00:00:00Z   62    JARDIM DA PENHA            0             1   \n",
       "1  2016-04-29T00:00:00Z   56    JARDIM DA PENHA            0             0   \n",
       "2  2016-04-29T00:00:00Z   62      MATA DA PRAIA            0             0   \n",
       "3  2016-04-29T00:00:00Z    8  PONTAL DE CAMBURI            0             0   \n",
       "4  2016-04-29T00:00:00Z   56    JARDIM DA PENHA            0             1   \n",
       "\n",
       "   Diabetes  Alcoholism  Handcap  SMS_received No-show  \n",
       "0         0           0        0             0      No  \n",
       "1         0           0        0             0      No  \n",
       "2         0           0        0             0      No  \n",
       "3         0           0        0             0      No  \n",
       "4         1           0        0             0      No  "
      ]
     },
     "execution_count": 3,
     "metadata": {},
     "output_type": "execute_result"
    }
   ],
   "source": [
    "df.head(5)"
   ]
  },
  {
   "cell_type": "code",
   "execution_count": 4,
   "id": "fbc4186d",
   "metadata": {},
   "outputs": [
    {
     "data": {
      "text/plain": [
       "0"
      ]
     },
     "execution_count": 4,
     "metadata": {},
     "output_type": "execute_result"
    }
   ],
   "source": [
    "#Investigating for duplicate values\n",
    "df.duplicated().sum()"
   ]
  },
  {
   "cell_type": "code",
   "execution_count": 5,
   "id": "6c682389",
   "metadata": {
    "scrolled": false
   },
   "outputs": [
    {
     "data": {
      "text/plain": [
       "PatientId         0\n",
       "AppointmentID     0\n",
       "Gender            0\n",
       "ScheduledDay      0\n",
       "AppointmentDay    0\n",
       "Age               0\n",
       "Neighbourhood     0\n",
       "Scholarship       0\n",
       "Hipertension      0\n",
       "Diabetes          0\n",
       "Alcoholism        0\n",
       "Handcap           0\n",
       "SMS_received      0\n",
       "No-show           0\n",
       "dtype: int64"
      ]
     },
     "execution_count": 5,
     "metadata": {},
     "output_type": "execute_result"
    }
   ],
   "source": [
    "#Investigating for null values\n",
    "df.isnull().sum()"
   ]
  },
  {
   "cell_type": "markdown",
   "id": "3e276469",
   "metadata": {},
   "source": [
    "###### DataFrame has no duplicated rows as shown using the .duplicated() function\n",
    "###### DataFrame has no null values as shown using the .isnull() function"
   ]
  },
  {
   "cell_type": "markdown",
   "id": "ad225263",
   "metadata": {},
   "source": [
    "### Data Cleaning"
   ]
  },
  {
   "cell_type": "code",
   "execution_count": 6,
   "id": "4693464d",
   "metadata": {},
   "outputs": [],
   "source": [
    "# Renaming a mispelled column Hipertension\n",
    "df.rename(columns = {'Hipertension' : 'Hypertension'}, inplace = True)\n",
    "\n",
    "# Renaming a mispelled column No-show\n",
    "df.rename(columns = {'No-show' : 'No_show'}, inplace = True)"
   ]
  },
  {
   "cell_type": "code",
   "execution_count": 7,
   "id": "645fcd12",
   "metadata": {
    "scrolled": true
   },
   "outputs": [
    {
     "data": {
      "text/html": [
       "<div>\n",
       "<style scoped>\n",
       "    .dataframe tbody tr th:only-of-type {\n",
       "        vertical-align: middle;\n",
       "    }\n",
       "\n",
       "    .dataframe tbody tr th {\n",
       "        vertical-align: top;\n",
       "    }\n",
       "\n",
       "    .dataframe thead th {\n",
       "        text-align: right;\n",
       "    }\n",
       "</style>\n",
       "<table border=\"1\" class=\"dataframe\">\n",
       "  <thead>\n",
       "    <tr style=\"text-align: right;\">\n",
       "      <th></th>\n",
       "      <th>PatientId</th>\n",
       "      <th>AppointmentID</th>\n",
       "      <th>Age</th>\n",
       "      <th>Scholarship</th>\n",
       "      <th>Hypertension</th>\n",
       "      <th>Diabetes</th>\n",
       "      <th>Alcoholism</th>\n",
       "      <th>Handcap</th>\n",
       "      <th>SMS_received</th>\n",
       "    </tr>\n",
       "  </thead>\n",
       "  <tbody>\n",
       "    <tr>\n",
       "      <th>count</th>\n",
       "      <td>1.105270e+05</td>\n",
       "      <td>1.105270e+05</td>\n",
       "      <td>110527.000000</td>\n",
       "      <td>110527.000000</td>\n",
       "      <td>110527.000000</td>\n",
       "      <td>110527.000000</td>\n",
       "      <td>110527.000000</td>\n",
       "      <td>110527.000000</td>\n",
       "      <td>110527.000000</td>\n",
       "    </tr>\n",
       "    <tr>\n",
       "      <th>mean</th>\n",
       "      <td>1.474963e+14</td>\n",
       "      <td>5.675305e+06</td>\n",
       "      <td>37.088874</td>\n",
       "      <td>0.098266</td>\n",
       "      <td>0.197246</td>\n",
       "      <td>0.071865</td>\n",
       "      <td>0.030400</td>\n",
       "      <td>0.022248</td>\n",
       "      <td>0.321026</td>\n",
       "    </tr>\n",
       "    <tr>\n",
       "      <th>std</th>\n",
       "      <td>2.560949e+14</td>\n",
       "      <td>7.129575e+04</td>\n",
       "      <td>23.110205</td>\n",
       "      <td>0.297675</td>\n",
       "      <td>0.397921</td>\n",
       "      <td>0.258265</td>\n",
       "      <td>0.171686</td>\n",
       "      <td>0.161543</td>\n",
       "      <td>0.466873</td>\n",
       "    </tr>\n",
       "    <tr>\n",
       "      <th>min</th>\n",
       "      <td>3.921784e+04</td>\n",
       "      <td>5.030230e+06</td>\n",
       "      <td>-1.000000</td>\n",
       "      <td>0.000000</td>\n",
       "      <td>0.000000</td>\n",
       "      <td>0.000000</td>\n",
       "      <td>0.000000</td>\n",
       "      <td>0.000000</td>\n",
       "      <td>0.000000</td>\n",
       "    </tr>\n",
       "    <tr>\n",
       "      <th>25%</th>\n",
       "      <td>4.172614e+12</td>\n",
       "      <td>5.640286e+06</td>\n",
       "      <td>18.000000</td>\n",
       "      <td>0.000000</td>\n",
       "      <td>0.000000</td>\n",
       "      <td>0.000000</td>\n",
       "      <td>0.000000</td>\n",
       "      <td>0.000000</td>\n",
       "      <td>0.000000</td>\n",
       "    </tr>\n",
       "    <tr>\n",
       "      <th>50%</th>\n",
       "      <td>3.173184e+13</td>\n",
       "      <td>5.680573e+06</td>\n",
       "      <td>37.000000</td>\n",
       "      <td>0.000000</td>\n",
       "      <td>0.000000</td>\n",
       "      <td>0.000000</td>\n",
       "      <td>0.000000</td>\n",
       "      <td>0.000000</td>\n",
       "      <td>0.000000</td>\n",
       "    </tr>\n",
       "    <tr>\n",
       "      <th>75%</th>\n",
       "      <td>9.439172e+13</td>\n",
       "      <td>5.725524e+06</td>\n",
       "      <td>55.000000</td>\n",
       "      <td>0.000000</td>\n",
       "      <td>0.000000</td>\n",
       "      <td>0.000000</td>\n",
       "      <td>0.000000</td>\n",
       "      <td>0.000000</td>\n",
       "      <td>1.000000</td>\n",
       "    </tr>\n",
       "    <tr>\n",
       "      <th>max</th>\n",
       "      <td>9.999816e+14</td>\n",
       "      <td>5.790484e+06</td>\n",
       "      <td>115.000000</td>\n",
       "      <td>1.000000</td>\n",
       "      <td>1.000000</td>\n",
       "      <td>1.000000</td>\n",
       "      <td>1.000000</td>\n",
       "      <td>4.000000</td>\n",
       "      <td>1.000000</td>\n",
       "    </tr>\n",
       "  </tbody>\n",
       "</table>\n",
       "</div>"
      ],
      "text/plain": [
       "          PatientId  AppointmentID            Age    Scholarship  \\\n",
       "count  1.105270e+05   1.105270e+05  110527.000000  110527.000000   \n",
       "mean   1.474963e+14   5.675305e+06      37.088874       0.098266   \n",
       "std    2.560949e+14   7.129575e+04      23.110205       0.297675   \n",
       "min    3.921784e+04   5.030230e+06      -1.000000       0.000000   \n",
       "25%    4.172614e+12   5.640286e+06      18.000000       0.000000   \n",
       "50%    3.173184e+13   5.680573e+06      37.000000       0.000000   \n",
       "75%    9.439172e+13   5.725524e+06      55.000000       0.000000   \n",
       "max    9.999816e+14   5.790484e+06     115.000000       1.000000   \n",
       "\n",
       "        Hypertension       Diabetes     Alcoholism        Handcap  \\\n",
       "count  110527.000000  110527.000000  110527.000000  110527.000000   \n",
       "mean        0.197246       0.071865       0.030400       0.022248   \n",
       "std         0.397921       0.258265       0.171686       0.161543   \n",
       "min         0.000000       0.000000       0.000000       0.000000   \n",
       "25%         0.000000       0.000000       0.000000       0.000000   \n",
       "50%         0.000000       0.000000       0.000000       0.000000   \n",
       "75%         0.000000       0.000000       0.000000       0.000000   \n",
       "max         1.000000       1.000000       1.000000       4.000000   \n",
       "\n",
       "        SMS_received  \n",
       "count  110527.000000  \n",
       "mean        0.321026  \n",
       "std         0.466873  \n",
       "min         0.000000  \n",
       "25%         0.000000  \n",
       "50%         0.000000  \n",
       "75%         1.000000  \n",
       "max         1.000000  "
      ]
     },
     "execution_count": 7,
     "metadata": {},
     "output_type": "execute_result"
    }
   ],
   "source": [
    "df.describe()"
   ]
  },
  {
   "cell_type": "code",
   "execution_count": 8,
   "id": "06daf71f",
   "metadata": {},
   "outputs": [
    {
     "data": {
      "text/plain": [
       "PatientId         float64\n",
       "AppointmentID       int64\n",
       "Gender             object\n",
       "ScheduledDay       object\n",
       "AppointmentDay     object\n",
       "Age                 int64\n",
       "Neighbourhood      object\n",
       "Scholarship         int64\n",
       "Hypertension        int64\n",
       "Diabetes            int64\n",
       "Alcoholism          int64\n",
       "Handcap             int64\n",
       "SMS_received        int64\n",
       "No_show            object\n",
       "dtype: object"
      ]
     },
     "execution_count": 8,
     "metadata": {},
     "output_type": "execute_result"
    }
   ],
   "source": [
    "#Checking data types\n",
    "df.dtypes"
   ]
  },
  {
   "cell_type": "code",
   "execution_count": 9,
   "id": "d0fcddc5",
   "metadata": {},
   "outputs": [],
   "source": [
    "#Fixing Data Types\n",
    "#Change PatientID from Float to String\n",
    "df.PatientId = df.PatientId.astype(str)\n",
    "\n",
    "#Change AppointmentID from Int to String\n",
    "df.AppointmentID = df.AppointmentID.astype(str)\n",
    "\n",
    "#Change ScheduledDay from String to datetime\n",
    "df.ScheduledDay = df.ScheduledDay.apply(pd.to_datetime)\n",
    "\n",
    "#Change AppointmentDay from String to datetime\n",
    "df.AppointmentDay = df.AppointmentDay.apply(pd.to_datetime)\n"
   ]
  },
  {
   "cell_type": "code",
   "execution_count": 10,
   "id": "065c4e4c",
   "metadata": {},
   "outputs": [
    {
     "data": {
      "text/html": [
       "<div>\n",
       "<style scoped>\n",
       "    .dataframe tbody tr th:only-of-type {\n",
       "        vertical-align: middle;\n",
       "    }\n",
       "\n",
       "    .dataframe tbody tr th {\n",
       "        vertical-align: top;\n",
       "    }\n",
       "\n",
       "    .dataframe thead th {\n",
       "        text-align: right;\n",
       "    }\n",
       "</style>\n",
       "<table border=\"1\" class=\"dataframe\">\n",
       "  <thead>\n",
       "    <tr style=\"text-align: right;\">\n",
       "      <th></th>\n",
       "      <th>PatientId</th>\n",
       "      <th>AppointmentID</th>\n",
       "      <th>Gender</th>\n",
       "      <th>ScheduledDay</th>\n",
       "      <th>AppointmentDay</th>\n",
       "      <th>Age</th>\n",
       "      <th>Neighbourhood</th>\n",
       "      <th>Scholarship</th>\n",
       "      <th>Hypertension</th>\n",
       "      <th>Diabetes</th>\n",
       "      <th>Alcoholism</th>\n",
       "      <th>Handcap</th>\n",
       "      <th>SMS_received</th>\n",
       "      <th>No_show</th>\n",
       "    </tr>\n",
       "  </thead>\n",
       "  <tbody>\n",
       "    <tr>\n",
       "      <th>0</th>\n",
       "      <td>29872499824296.0</td>\n",
       "      <td>5642903</td>\n",
       "      <td>F</td>\n",
       "      <td>2016-04-29 18:38:08+00:00</td>\n",
       "      <td>2016-04-29 00:00:00+00:00</td>\n",
       "      <td>62</td>\n",
       "      <td>JARDIM DA PENHA</td>\n",
       "      <td>0</td>\n",
       "      <td>1</td>\n",
       "      <td>0</td>\n",
       "      <td>0</td>\n",
       "      <td>0</td>\n",
       "      <td>0</td>\n",
       "      <td>No</td>\n",
       "    </tr>\n",
       "    <tr>\n",
       "      <th>1</th>\n",
       "      <td>558997776694438.0</td>\n",
       "      <td>5642503</td>\n",
       "      <td>M</td>\n",
       "      <td>2016-04-29 16:08:27+00:00</td>\n",
       "      <td>2016-04-29 00:00:00+00:00</td>\n",
       "      <td>56</td>\n",
       "      <td>JARDIM DA PENHA</td>\n",
       "      <td>0</td>\n",
       "      <td>0</td>\n",
       "      <td>0</td>\n",
       "      <td>0</td>\n",
       "      <td>0</td>\n",
       "      <td>0</td>\n",
       "      <td>No</td>\n",
       "    </tr>\n",
       "    <tr>\n",
       "      <th>2</th>\n",
       "      <td>4262962299951.0</td>\n",
       "      <td>5642549</td>\n",
       "      <td>F</td>\n",
       "      <td>2016-04-29 16:19:04+00:00</td>\n",
       "      <td>2016-04-29 00:00:00+00:00</td>\n",
       "      <td>62</td>\n",
       "      <td>MATA DA PRAIA</td>\n",
       "      <td>0</td>\n",
       "      <td>0</td>\n",
       "      <td>0</td>\n",
       "      <td>0</td>\n",
       "      <td>0</td>\n",
       "      <td>0</td>\n",
       "      <td>No</td>\n",
       "    </tr>\n",
       "    <tr>\n",
       "      <th>3</th>\n",
       "      <td>867951213174.0</td>\n",
       "      <td>5642828</td>\n",
       "      <td>F</td>\n",
       "      <td>2016-04-29 17:29:31+00:00</td>\n",
       "      <td>2016-04-29 00:00:00+00:00</td>\n",
       "      <td>8</td>\n",
       "      <td>PONTAL DE CAMBURI</td>\n",
       "      <td>0</td>\n",
       "      <td>0</td>\n",
       "      <td>0</td>\n",
       "      <td>0</td>\n",
       "      <td>0</td>\n",
       "      <td>0</td>\n",
       "      <td>No</td>\n",
       "    </tr>\n",
       "    <tr>\n",
       "      <th>4</th>\n",
       "      <td>8841186448183.0</td>\n",
       "      <td>5642494</td>\n",
       "      <td>F</td>\n",
       "      <td>2016-04-29 16:07:23+00:00</td>\n",
       "      <td>2016-04-29 00:00:00+00:00</td>\n",
       "      <td>56</td>\n",
       "      <td>JARDIM DA PENHA</td>\n",
       "      <td>0</td>\n",
       "      <td>1</td>\n",
       "      <td>1</td>\n",
       "      <td>0</td>\n",
       "      <td>0</td>\n",
       "      <td>0</td>\n",
       "      <td>No</td>\n",
       "    </tr>\n",
       "  </tbody>\n",
       "</table>\n",
       "</div>"
      ],
      "text/plain": [
       "           PatientId AppointmentID Gender              ScheduledDay  \\\n",
       "0   29872499824296.0       5642903      F 2016-04-29 18:38:08+00:00   \n",
       "1  558997776694438.0       5642503      M 2016-04-29 16:08:27+00:00   \n",
       "2    4262962299951.0       5642549      F 2016-04-29 16:19:04+00:00   \n",
       "3     867951213174.0       5642828      F 2016-04-29 17:29:31+00:00   \n",
       "4    8841186448183.0       5642494      F 2016-04-29 16:07:23+00:00   \n",
       "\n",
       "             AppointmentDay  Age      Neighbourhood  Scholarship  \\\n",
       "0 2016-04-29 00:00:00+00:00   62    JARDIM DA PENHA            0   \n",
       "1 2016-04-29 00:00:00+00:00   56    JARDIM DA PENHA            0   \n",
       "2 2016-04-29 00:00:00+00:00   62      MATA DA PRAIA            0   \n",
       "3 2016-04-29 00:00:00+00:00    8  PONTAL DE CAMBURI            0   \n",
       "4 2016-04-29 00:00:00+00:00   56    JARDIM DA PENHA            0   \n",
       "\n",
       "   Hypertension  Diabetes  Alcoholism  Handcap  SMS_received No_show  \n",
       "0             1         0           0        0             0      No  \n",
       "1             0         0           0        0             0      No  \n",
       "2             0         0           0        0             0      No  \n",
       "3             0         0           0        0             0      No  \n",
       "4             1         1           0        0             0      No  "
      ]
     },
     "execution_count": 10,
     "metadata": {},
     "output_type": "execute_result"
    }
   ],
   "source": [
    "#Confirming changes made to the data types\n",
    "df.head(5)"
   ]
  },
  {
   "cell_type": "markdown",
   "id": "bd51ce0c",
   "metadata": {},
   "source": [
    "### Exploratory Data Analysis"
   ]
  },
  {
   "cell_type": "code",
   "execution_count": 11,
   "id": "69e5257f",
   "metadata": {},
   "outputs": [],
   "source": [
    "#Creating a Age group column \n",
    "conditions = [\n",
    "        (df['Age'] <= 20),\n",
    "        (df['Age'] > 20) & (df['Age'] <= 40),\n",
    "        (df['Age'] > 40) & (df['Age'] <= 60),\n",
    "        (df['Age'] > 60) & (df['Age'] <= 80),\n",
    "        (df['Age'] > 80) & (df['Age'] <= 100),\n",
    "        (df['Age'] > 100) & (df['Age'] <= 120)\n",
    "]\n",
    "\n",
    "Values = ['<=20 yrs-old','21-40 yrs-old',\n",
    "          '41-60 yrs-old','61-80 yrs-old', \n",
    "          '81-100 yrs-old', '101-120 yrs-old']\n",
    "\n",
    "df['Age_group'] = np.select(conditions,Values)"
   ]
  },
  {
   "cell_type": "code",
   "execution_count": 12,
   "id": "e4125fd7",
   "metadata": {
    "scrolled": true
   },
   "outputs": [
    {
     "data": {
      "text/html": [
       "<div>\n",
       "<style scoped>\n",
       "    .dataframe tbody tr th:only-of-type {\n",
       "        vertical-align: middle;\n",
       "    }\n",
       "\n",
       "    .dataframe tbody tr th {\n",
       "        vertical-align: top;\n",
       "    }\n",
       "\n",
       "    .dataframe thead th {\n",
       "        text-align: right;\n",
       "    }\n",
       "</style>\n",
       "<table border=\"1\" class=\"dataframe\">\n",
       "  <thead>\n",
       "    <tr style=\"text-align: right;\">\n",
       "      <th></th>\n",
       "      <th>PatientId</th>\n",
       "      <th>AppointmentID</th>\n",
       "      <th>Gender</th>\n",
       "      <th>ScheduledDay</th>\n",
       "      <th>AppointmentDay</th>\n",
       "      <th>Age</th>\n",
       "      <th>Neighbourhood</th>\n",
       "      <th>Scholarship</th>\n",
       "      <th>Hypertension</th>\n",
       "      <th>Diabetes</th>\n",
       "      <th>Alcoholism</th>\n",
       "      <th>Handcap</th>\n",
       "      <th>SMS_received</th>\n",
       "      <th>No_show</th>\n",
       "      <th>Age_group</th>\n",
       "    </tr>\n",
       "  </thead>\n",
       "  <tbody>\n",
       "    <tr>\n",
       "      <th>0</th>\n",
       "      <td>29872499824296.0</td>\n",
       "      <td>5642903</td>\n",
       "      <td>F</td>\n",
       "      <td>2016-04-29 18:38:08+00:00</td>\n",
       "      <td>2016-04-29 00:00:00+00:00</td>\n",
       "      <td>62</td>\n",
       "      <td>JARDIM DA PENHA</td>\n",
       "      <td>0</td>\n",
       "      <td>1</td>\n",
       "      <td>0</td>\n",
       "      <td>0</td>\n",
       "      <td>0</td>\n",
       "      <td>0</td>\n",
       "      <td>No</td>\n",
       "      <td>61-80 yrs-old</td>\n",
       "    </tr>\n",
       "  </tbody>\n",
       "</table>\n",
       "</div>"
      ],
      "text/plain": [
       "          PatientId AppointmentID Gender              ScheduledDay  \\\n",
       "0  29872499824296.0       5642903      F 2016-04-29 18:38:08+00:00   \n",
       "\n",
       "             AppointmentDay  Age    Neighbourhood  Scholarship  Hypertension  \\\n",
       "0 2016-04-29 00:00:00+00:00   62  JARDIM DA PENHA            0             1   \n",
       "\n",
       "   Diabetes  Alcoholism  Handcap  SMS_received No_show      Age_group  \n",
       "0         0           0        0             0      No  61-80 yrs-old  "
      ]
     },
     "execution_count": 12,
     "metadata": {},
     "output_type": "execute_result"
    }
   ],
   "source": [
    "#Corfirming the new column\n",
    "df.head(1)"
   ]
  },
  {
   "cell_type": "markdown",
   "id": "399689e9",
   "metadata": {},
   "source": [
    "\n",
    "### 1. What is the age distribution of total appointments?"
   ]
  },
  {
   "cell_type": "code",
   "execution_count": 13,
   "id": "5f868be9",
   "metadata": {},
   "outputs": [
    {
     "data": {
      "text/plain": [
       "Age_group\n",
       "<=20 yrs-old       31849\n",
       "21-40 yrs-old      28835\n",
       "41-60 yrs-old      30081\n",
       "61-80 yrs-old      16910\n",
       "81-100 yrs-old      2845\n",
       "101-120 yrs-old        7\n",
       "Name: Age, dtype: int64"
      ]
     },
     "execution_count": 13,
     "metadata": {},
     "output_type": "execute_result"
    }
   ],
   "source": [
    "# Filtering the dataset to show Age group distribution of total Appointments\n",
    "Age_group_app = df.groupby('Age_group')['Age'].count().reindex(['<=20 yrs-old','21-40 yrs-old','41-60 yrs-old','61-80 yrs-old', '81-100 yrs-old', '101-120 yrs-old'])\n",
    "Age_group_app"
   ]
  },
  {
   "cell_type": "code",
   "execution_count": 14,
   "id": "f6855c5f",
   "metadata": {},
   "outputs": [
    {
     "data": {
      "text/plain": [
       "Text(0, 0.5, 'No of appointments')"
      ]
     },
     "execution_count": 14,
     "metadata": {},
     "output_type": "execute_result"
    },
    {
     "data": {
      "image/png": "[encoded data removed]",
      "text/plain": [
       "<Figure size 720x720 with 1 Axes>"
      ]
     },
     "metadata": {
      "needs_background": "light"
     },
     "output_type": "display_data"
    }
   ],
   "source": [
    "#Plot a bar chat showing the Age group distribution of total appointments\n",
    "Age_group_app.plot(kind = 'bar', figsize= (10,10),\n",
    "            title = 'Age ditribution of total appointments', color = ('brown','grey', 'orange','yellow','blue', 'red'));\n",
    "plt.xlabel('Age_group', fontsize = 12)\n",
    "plt.ylabel('No of appointments', fontsize = 12)"
   ]
  },
  {
   "cell_type": "markdown",
   "id": "fe8aff8e",
   "metadata": {},
   "source": [
    "### From the Age range in the statistics shown above, the statistics shows that:\n",
    ">1. There are more Younger patients visiting the hospital.\n",
    ">2. Number of appointments decreases with increasing Age group"
   ]
  },
  {
   "cell_type": "markdown",
   "id": "faabefb3",
   "metadata": {},
   "source": [
    "### 2. What is the age distribution of patients with missed appointments?"
   ]
  },
  {
   "cell_type": "code",
   "execution_count": 15,
   "id": "45be8e1b",
   "metadata": {},
   "outputs": [
    {
     "data": {
      "text/plain": [
       "<=20 yrs-old       7096\n",
       "21-40 yrs-old      6626\n",
       "41-60 yrs-old      5591\n",
       "61-80 yrs-old      2537\n",
       "81-100 yrs-old      466\n",
       "101-120 yrs-old       3\n",
       "Name: Age_group, dtype: int64"
      ]
     },
     "execution_count": 15,
     "metadata": {},
     "output_type": "execute_result"
    }
   ],
   "source": [
    "# Filtering the dataset to show missed appointments(Yes) by AGE_GROUP\n",
    "Missed = df.query('No_show == \"Yes\"')['Age_group'].value_counts()\n",
    "Missed"
   ]
  },
  {
   "cell_type": "code",
   "execution_count": 16,
   "id": "5b5590f7",
   "metadata": {
    "scrolled": true
   },
   "outputs": [
    {
     "data": {
      "text/plain": [
       "Text(0, 0.5, 'No of Missed appointments')"
      ]
     },
     "execution_count": 16,
     "metadata": {},
     "output_type": "execute_result"
    },
    {
     "data": {
      "image/png": "[encoded data removed]",
      "text/plain": [
       "<Figure size 720x720 with 1 Axes>"
      ]
     },
     "metadata": {
      "needs_background": "light"
     },
     "output_type": "display_data"
    }
   ],
   "source": [
    "#Plotting a bar chat showing the distribution of Age group relative to missed appointments\n",
    "Missed.plot(kind = 'bar', figsize= (10,10),\n",
    "            title = 'Age ditribution of missed appointments', color = ('brown','grey', 'orange','yellow','blue', 'red'));\n",
    "plt.xlabel('Age_group', fontsize = 12)\n",
    "plt.ylabel('No of Missed appointments', fontsize = 12)"
   ]
  },
  {
   "cell_type": "markdown",
   "id": "054c74d5",
   "metadata": {},
   "source": [
    "#### From the Age range in the statistics shown above, the statistics shows that:\n",
    ">1. Younger patients are more likely to miss their appointments than older patients\n",
    "\n",
    "***NB: Younger patients <20 years old have an higher overall number of appointments***"
   ]
  },
  {
   "cell_type": "markdown",
   "id": "e02abac7",
   "metadata": {},
   "source": [
    "### 3. What is the age distribution of patients that showed up for their appointments?"
   ]
  },
  {
   "cell_type": "code",
   "execution_count": 17,
   "id": "730f86f2",
   "metadata": {},
   "outputs": [
    {
     "data": {
      "text/plain": [
       "<=20 yrs-old       24753\n",
       "41-60 yrs-old      24490\n",
       "21-40 yrs-old      22209\n",
       "61-80 yrs-old      14373\n",
       "81-100 yrs-old      2379\n",
       "101-120 yrs-old        4\n",
       "Name: Age_group, dtype: int64"
      ]
     },
     "execution_count": 17,
     "metadata": {},
     "output_type": "execute_result"
    }
   ],
   "source": [
    "# Filtering the dataset to show appointments(No) that showed up by AGE_GROUP\n",
    "Showed = df.query('No_show == \"No\"')['Age_group'].value_counts()\n",
    "Showed"
   ]
  },
  {
   "cell_type": "code",
   "execution_count": 18,
   "id": "0cd93635",
   "metadata": {},
   "outputs": [
    {
     "data": {
      "text/plain": [
       "Text(0, 0.5, 'No of Showed appointments')"
      ]
     },
     "execution_count": 18,
     "metadata": {},
     "output_type": "execute_result"
    },
    {
     "data": {
      "image/png": "[encoded data removed]",
      "text/plain": [
       "<Figure size 720x720 with 1 Axes>"
      ]
     },
     "metadata": {
      "needs_background": "light"
     },
     "output_type": "display_data"
    }
   ],
   "source": [
    "#Plotting a bar chat showing the distribution of Age group relative to missed appointments\n",
    "Showed.plot(kind = 'bar', figsize= (10,10),\n",
    "            title = 'Age ditribution of Showed appointments', color = ('brown','grey', 'orange','yellow','blue', 'red'));\n",
    "plt.xlabel('Age_group', fontsize = 12)\n",
    "plt.ylabel('No of Showed appointments', fontsize = 12)"
   ]
  },
  {
   "cell_type": "markdown",
   "id": "cee671a7",
   "metadata": {},
   "source": [
    "#### From the Age range in the statistics shown above, the statistics shows that:\n",
    ">1. <=20 years old patients are more likely to show for their appointments than older patients\n",
    "\n",
    "***NB: Younger patients <20 years old have an higher overall number of appointments***"
   ]
  },
  {
   "cell_type": "code",
   "execution_count": 19,
   "id": "56e13131",
   "metadata": {
    "scrolled": true
   },
   "outputs": [
    {
     "data": {
      "text/html": [
       "<div>\n",
       "<style scoped>\n",
       "    .dataframe tbody tr th:only-of-type {\n",
       "        vertical-align: middle;\n",
       "    }\n",
       "\n",
       "    .dataframe tbody tr th {\n",
       "        vertical-align: top;\n",
       "    }\n",
       "\n",
       "    .dataframe thead th {\n",
       "        text-align: right;\n",
       "    }\n",
       "</style>\n",
       "<table border=\"1\" class=\"dataframe\">\n",
       "  <thead>\n",
       "    <tr style=\"text-align: right;\">\n",
       "      <th></th>\n",
       "      <th>PatientId</th>\n",
       "      <th>AppointmentID</th>\n",
       "      <th>Gender</th>\n",
       "      <th>ScheduledDay</th>\n",
       "      <th>AppointmentDay</th>\n",
       "      <th>Age</th>\n",
       "      <th>Neighbourhood</th>\n",
       "      <th>Scholarship</th>\n",
       "      <th>Hypertension</th>\n",
       "      <th>Diabetes</th>\n",
       "      <th>Alcoholism</th>\n",
       "      <th>Handcap</th>\n",
       "      <th>SMS_received</th>\n",
       "      <th>No_show</th>\n",
       "      <th>Age_group</th>\n",
       "    </tr>\n",
       "  </thead>\n",
       "  <tbody>\n",
       "    <tr>\n",
       "      <th>0</th>\n",
       "      <td>29872499824296.0</td>\n",
       "      <td>5642903</td>\n",
       "      <td>F</td>\n",
       "      <td>2016-04-29 18:38:08+00:00</td>\n",
       "      <td>2016-04-29 00:00:00+00:00</td>\n",
       "      <td>62</td>\n",
       "      <td>JARDIM DA PENHA</td>\n",
       "      <td>0</td>\n",
       "      <td>1</td>\n",
       "      <td>0</td>\n",
       "      <td>0</td>\n",
       "      <td>0</td>\n",
       "      <td>0</td>\n",
       "      <td>No</td>\n",
       "      <td>61-80 yrs-old</td>\n",
       "    </tr>\n",
       "    <tr>\n",
       "      <th>1</th>\n",
       "      <td>558997776694438.0</td>\n",
       "      <td>5642503</td>\n",
       "      <td>M</td>\n",
       "      <td>2016-04-29 16:08:27+00:00</td>\n",
       "      <td>2016-04-29 00:00:00+00:00</td>\n",
       "      <td>56</td>\n",
       "      <td>JARDIM DA PENHA</td>\n",
       "      <td>0</td>\n",
       "      <td>0</td>\n",
       "      <td>0</td>\n",
       "      <td>0</td>\n",
       "      <td>0</td>\n",
       "      <td>0</td>\n",
       "      <td>No</td>\n",
       "      <td>41-60 yrs-old</td>\n",
       "    </tr>\n",
       "    <tr>\n",
       "      <th>2</th>\n",
       "      <td>4262962299951.0</td>\n",
       "      <td>5642549</td>\n",
       "      <td>F</td>\n",
       "      <td>2016-04-29 16:19:04+00:00</td>\n",
       "      <td>2016-04-29 00:00:00+00:00</td>\n",
       "      <td>62</td>\n",
       "      <td>MATA DA PRAIA</td>\n",
       "      <td>0</td>\n",
       "      <td>0</td>\n",
       "      <td>0</td>\n",
       "      <td>0</td>\n",
       "      <td>0</td>\n",
       "      <td>0</td>\n",
       "      <td>No</td>\n",
       "      <td>61-80 yrs-old</td>\n",
       "    </tr>\n",
       "    <tr>\n",
       "      <th>3</th>\n",
       "      <td>867951213174.0</td>\n",
       "      <td>5642828</td>\n",
       "      <td>F</td>\n",
       "      <td>2016-04-29 17:29:31+00:00</td>\n",
       "      <td>2016-04-29 00:00:00+00:00</td>\n",
       "      <td>8</td>\n",
       "      <td>PONTAL DE CAMBURI</td>\n",
       "      <td>0</td>\n",
       "      <td>0</td>\n",
       "      <td>0</td>\n",
       "      <td>0</td>\n",
       "      <td>0</td>\n",
       "      <td>0</td>\n",
       "      <td>No</td>\n",
       "      <td>&lt;=20 yrs-old</td>\n",
       "    </tr>\n",
       "    <tr>\n",
       "      <th>4</th>\n",
       "      <td>8841186448183.0</td>\n",
       "      <td>5642494</td>\n",
       "      <td>F</td>\n",
       "      <td>2016-04-29 16:07:23+00:00</td>\n",
       "      <td>2016-04-29 00:00:00+00:00</td>\n",
       "      <td>56</td>\n",
       "      <td>JARDIM DA PENHA</td>\n",
       "      <td>0</td>\n",
       "      <td>1</td>\n",
       "      <td>1</td>\n",
       "      <td>0</td>\n",
       "      <td>0</td>\n",
       "      <td>0</td>\n",
       "      <td>No</td>\n",
       "      <td>41-60 yrs-old</td>\n",
       "    </tr>\n",
       "    <tr>\n",
       "      <th>5</th>\n",
       "      <td>95985133231274.0</td>\n",
       "      <td>5626772</td>\n",
       "      <td>F</td>\n",
       "      <td>2016-04-27 08:36:51+00:00</td>\n",
       "      <td>2016-04-29 00:00:00+00:00</td>\n",
       "      <td>76</td>\n",
       "      <td>REPÚBLICA</td>\n",
       "      <td>0</td>\n",
       "      <td>1</td>\n",
       "      <td>0</td>\n",
       "      <td>0</td>\n",
       "      <td>0</td>\n",
       "      <td>0</td>\n",
       "      <td>No</td>\n",
       "      <td>61-80 yrs-old</td>\n",
       "    </tr>\n",
       "    <tr>\n",
       "      <th>6</th>\n",
       "      <td>733688164476661.0</td>\n",
       "      <td>5630279</td>\n",
       "      <td>F</td>\n",
       "      <td>2016-04-27 15:05:12+00:00</td>\n",
       "      <td>2016-04-29 00:00:00+00:00</td>\n",
       "      <td>23</td>\n",
       "      <td>GOIABEIRAS</td>\n",
       "      <td>0</td>\n",
       "      <td>0</td>\n",
       "      <td>0</td>\n",
       "      <td>0</td>\n",
       "      <td>0</td>\n",
       "      <td>0</td>\n",
       "      <td>Yes</td>\n",
       "      <td>21-40 yrs-old</td>\n",
       "    </tr>\n",
       "    <tr>\n",
       "      <th>7</th>\n",
       "      <td>3449833394123.0</td>\n",
       "      <td>5630575</td>\n",
       "      <td>F</td>\n",
       "      <td>2016-04-27 15:39:58+00:00</td>\n",
       "      <td>2016-04-29 00:00:00+00:00</td>\n",
       "      <td>39</td>\n",
       "      <td>GOIABEIRAS</td>\n",
       "      <td>0</td>\n",
       "      <td>0</td>\n",
       "      <td>0</td>\n",
       "      <td>0</td>\n",
       "      <td>0</td>\n",
       "      <td>0</td>\n",
       "      <td>Yes</td>\n",
       "      <td>21-40 yrs-old</td>\n",
       "    </tr>\n",
       "    <tr>\n",
       "      <th>8</th>\n",
       "      <td>56394729949972.0</td>\n",
       "      <td>5638447</td>\n",
       "      <td>F</td>\n",
       "      <td>2016-04-29 08:02:16+00:00</td>\n",
       "      <td>2016-04-29 00:00:00+00:00</td>\n",
       "      <td>21</td>\n",
       "      <td>ANDORINHAS</td>\n",
       "      <td>0</td>\n",
       "      <td>0</td>\n",
       "      <td>0</td>\n",
       "      <td>0</td>\n",
       "      <td>0</td>\n",
       "      <td>0</td>\n",
       "      <td>No</td>\n",
       "      <td>21-40 yrs-old</td>\n",
       "    </tr>\n",
       "    <tr>\n",
       "      <th>9</th>\n",
       "      <td>78124564369297.0</td>\n",
       "      <td>5629123</td>\n",
       "      <td>F</td>\n",
       "      <td>2016-04-27 12:48:25+00:00</td>\n",
       "      <td>2016-04-29 00:00:00+00:00</td>\n",
       "      <td>19</td>\n",
       "      <td>CONQUISTA</td>\n",
       "      <td>0</td>\n",
       "      <td>0</td>\n",
       "      <td>0</td>\n",
       "      <td>0</td>\n",
       "      <td>0</td>\n",
       "      <td>0</td>\n",
       "      <td>No</td>\n",
       "      <td>&lt;=20 yrs-old</td>\n",
       "    </tr>\n",
       "    <tr>\n",
       "      <th>10</th>\n",
       "      <td>734536231958495.0</td>\n",
       "      <td>5630213</td>\n",
       "      <td>F</td>\n",
       "      <td>2016-04-27 14:58:11+00:00</td>\n",
       "      <td>2016-04-29 00:00:00+00:00</td>\n",
       "      <td>30</td>\n",
       "      <td>NOVA PALESTINA</td>\n",
       "      <td>0</td>\n",
       "      <td>0</td>\n",
       "      <td>0</td>\n",
       "      <td>0</td>\n",
       "      <td>0</td>\n",
       "      <td>0</td>\n",
       "      <td>No</td>\n",
       "      <td>21-40 yrs-old</td>\n",
       "    </tr>\n",
       "    <tr>\n",
       "      <th>11</th>\n",
       "      <td>7542951368435.0</td>\n",
       "      <td>5620163</td>\n",
       "      <td>M</td>\n",
       "      <td>2016-04-26 08:44:12+00:00</td>\n",
       "      <td>2016-04-29 00:00:00+00:00</td>\n",
       "      <td>29</td>\n",
       "      <td>NOVA PALESTINA</td>\n",
       "      <td>0</td>\n",
       "      <td>0</td>\n",
       "      <td>0</td>\n",
       "      <td>0</td>\n",
       "      <td>0</td>\n",
       "      <td>1</td>\n",
       "      <td>Yes</td>\n",
       "      <td>21-40 yrs-old</td>\n",
       "    </tr>\n",
       "    <tr>\n",
       "      <th>12</th>\n",
       "      <td>566654781423437.0</td>\n",
       "      <td>5634718</td>\n",
       "      <td>F</td>\n",
       "      <td>2016-04-28 11:33:51+00:00</td>\n",
       "      <td>2016-04-29 00:00:00+00:00</td>\n",
       "      <td>22</td>\n",
       "      <td>NOVA PALESTINA</td>\n",
       "      <td>1</td>\n",
       "      <td>0</td>\n",
       "      <td>0</td>\n",
       "      <td>0</td>\n",
       "      <td>0</td>\n",
       "      <td>0</td>\n",
       "      <td>No</td>\n",
       "      <td>21-40 yrs-old</td>\n",
       "    </tr>\n",
       "    <tr>\n",
       "      <th>13</th>\n",
       "      <td>911394617215919.0</td>\n",
       "      <td>5636249</td>\n",
       "      <td>M</td>\n",
       "      <td>2016-04-28 14:52:07+00:00</td>\n",
       "      <td>2016-04-29 00:00:00+00:00</td>\n",
       "      <td>28</td>\n",
       "      <td>NOVA PALESTINA</td>\n",
       "      <td>0</td>\n",
       "      <td>0</td>\n",
       "      <td>0</td>\n",
       "      <td>0</td>\n",
       "      <td>0</td>\n",
       "      <td>0</td>\n",
       "      <td>No</td>\n",
       "      <td>21-40 yrs-old</td>\n",
       "    </tr>\n",
       "    <tr>\n",
       "      <th>14</th>\n",
       "      <td>99884723334928.0</td>\n",
       "      <td>5633951</td>\n",
       "      <td>F</td>\n",
       "      <td>2016-04-28 10:06:24+00:00</td>\n",
       "      <td>2016-04-29 00:00:00+00:00</td>\n",
       "      <td>54</td>\n",
       "      <td>NOVA PALESTINA</td>\n",
       "      <td>0</td>\n",
       "      <td>0</td>\n",
       "      <td>0</td>\n",
       "      <td>0</td>\n",
       "      <td>0</td>\n",
       "      <td>0</td>\n",
       "      <td>No</td>\n",
       "      <td>41-60 yrs-old</td>\n",
       "    </tr>\n",
       "    <tr>\n",
       "      <th>15</th>\n",
       "      <td>99948393975.0</td>\n",
       "      <td>5620206</td>\n",
       "      <td>F</td>\n",
       "      <td>2016-04-26 08:47:27+00:00</td>\n",
       "      <td>2016-04-29 00:00:00+00:00</td>\n",
       "      <td>15</td>\n",
       "      <td>NOVA PALESTINA</td>\n",
       "      <td>0</td>\n",
       "      <td>0</td>\n",
       "      <td>0</td>\n",
       "      <td>0</td>\n",
       "      <td>0</td>\n",
       "      <td>1</td>\n",
       "      <td>No</td>\n",
       "      <td>&lt;=20 yrs-old</td>\n",
       "    </tr>\n",
       "    <tr>\n",
       "      <th>16</th>\n",
       "      <td>84574392942817.0</td>\n",
       "      <td>5633121</td>\n",
       "      <td>M</td>\n",
       "      <td>2016-04-28 08:51:47+00:00</td>\n",
       "      <td>2016-04-29 00:00:00+00:00</td>\n",
       "      <td>50</td>\n",
       "      <td>NOVA PALESTINA</td>\n",
       "      <td>0</td>\n",
       "      <td>0</td>\n",
       "      <td>0</td>\n",
       "      <td>0</td>\n",
       "      <td>0</td>\n",
       "      <td>0</td>\n",
       "      <td>No</td>\n",
       "      <td>41-60 yrs-old</td>\n",
       "    </tr>\n",
       "    <tr>\n",
       "      <th>17</th>\n",
       "      <td>14794966191172.0</td>\n",
       "      <td>5633460</td>\n",
       "      <td>F</td>\n",
       "      <td>2016-04-28 09:28:57+00:00</td>\n",
       "      <td>2016-04-29 00:00:00+00:00</td>\n",
       "      <td>40</td>\n",
       "      <td>CONQUISTA</td>\n",
       "      <td>1</td>\n",
       "      <td>0</td>\n",
       "      <td>0</td>\n",
       "      <td>0</td>\n",
       "      <td>0</td>\n",
       "      <td>0</td>\n",
       "      <td>Yes</td>\n",
       "      <td>21-40 yrs-old</td>\n",
       "    </tr>\n",
       "    <tr>\n",
       "      <th>18</th>\n",
       "      <td>17135378245248.0</td>\n",
       "      <td>5621836</td>\n",
       "      <td>F</td>\n",
       "      <td>2016-04-26 10:54:18+00:00</td>\n",
       "      <td>2016-04-29 00:00:00+00:00</td>\n",
       "      <td>30</td>\n",
       "      <td>NOVA PALESTINA</td>\n",
       "      <td>1</td>\n",
       "      <td>0</td>\n",
       "      <td>0</td>\n",
       "      <td>0</td>\n",
       "      <td>0</td>\n",
       "      <td>1</td>\n",
       "      <td>No</td>\n",
       "      <td>21-40 yrs-old</td>\n",
       "    </tr>\n",
       "    <tr>\n",
       "      <th>19</th>\n",
       "      <td>7223289184215.0</td>\n",
       "      <td>5640433</td>\n",
       "      <td>F</td>\n",
       "      <td>2016-04-29 10:43:14+00:00</td>\n",
       "      <td>2016-04-29 00:00:00+00:00</td>\n",
       "      <td>46</td>\n",
       "      <td>DA PENHA</td>\n",
       "      <td>0</td>\n",
       "      <td>0</td>\n",
       "      <td>0</td>\n",
       "      <td>0</td>\n",
       "      <td>0</td>\n",
       "      <td>0</td>\n",
       "      <td>No</td>\n",
       "      <td>41-60 yrs-old</td>\n",
       "    </tr>\n",
       "  </tbody>\n",
       "</table>\n",
       "</div>"
      ],
      "text/plain": [
       "            PatientId AppointmentID Gender              ScheduledDay  \\\n",
       "0    29872499824296.0       5642903      F 2016-04-29 18:38:08+00:00   \n",
       "1   558997776694438.0       5642503      M 2016-04-29 16:08:27+00:00   \n",
       "2     4262962299951.0       5642549      F 2016-04-29 16:19:04+00:00   \n",
       "3      867951213174.0       5642828      F 2016-04-29 17:29:31+00:00   \n",
       "4     8841186448183.0       5642494      F 2016-04-29 16:07:23+00:00   \n",
       "5    95985133231274.0       5626772      F 2016-04-27 08:36:51+00:00   \n",
       "6   733688164476661.0       5630279      F 2016-04-27 15:05:12+00:00   \n",
       "7     3449833394123.0       5630575      F 2016-04-27 15:39:58+00:00   \n",
       "8    56394729949972.0       5638447      F 2016-04-29 08:02:16+00:00   \n",
       "9    78124564369297.0       5629123      F 2016-04-27 12:48:25+00:00   \n",
       "10  734536231958495.0       5630213      F 2016-04-27 14:58:11+00:00   \n",
       "11    7542951368435.0       5620163      M 2016-04-26 08:44:12+00:00   \n",
       "12  566654781423437.0       5634718      F 2016-04-28 11:33:51+00:00   \n",
       "13  911394617215919.0       5636249      M 2016-04-28 14:52:07+00:00   \n",
       "14   99884723334928.0       5633951      F 2016-04-28 10:06:24+00:00   \n",
       "15      99948393975.0       5620206      F 2016-04-26 08:47:27+00:00   \n",
       "16   84574392942817.0       5633121      M 2016-04-28 08:51:47+00:00   \n",
       "17   14794966191172.0       5633460      F 2016-04-28 09:28:57+00:00   \n",
       "18   17135378245248.0       5621836      F 2016-04-26 10:54:18+00:00   \n",
       "19    7223289184215.0       5640433      F 2016-04-29 10:43:14+00:00   \n",
       "\n",
       "              AppointmentDay  Age      Neighbourhood  Scholarship  \\\n",
       "0  2016-04-29 00:00:00+00:00   62    JARDIM DA PENHA            0   \n",
       "1  2016-04-29 00:00:00+00:00   56    JARDIM DA PENHA            0   \n",
       "2  2016-04-29 00:00:00+00:00   62      MATA DA PRAIA            0   \n",
       "3  2016-04-29 00:00:00+00:00    8  PONTAL DE CAMBURI            0   \n",
       "4  2016-04-29 00:00:00+00:00   56    JARDIM DA PENHA            0   \n",
       "5  2016-04-29 00:00:00+00:00   76          REPÚBLICA            0   \n",
       "6  2016-04-29 00:00:00+00:00   23         GOIABEIRAS            0   \n",
       "7  2016-04-29 00:00:00+00:00   39         GOIABEIRAS            0   \n",
       "8  2016-04-29 00:00:00+00:00   21         ANDORINHAS            0   \n",
       "9  2016-04-29 00:00:00+00:00   19          CONQUISTA            0   \n",
       "10 2016-04-29 00:00:00+00:00   30     NOVA PALESTINA            0   \n",
       "11 2016-04-29 00:00:00+00:00   29     NOVA PALESTINA            0   \n",
       "12 2016-04-29 00:00:00+00:00   22     NOVA PALESTINA            1   \n",
       "13 2016-04-29 00:00:00+00:00   28     NOVA PALESTINA            0   \n",
       "14 2016-04-29 00:00:00+00:00   54     NOVA PALESTINA            0   \n",
       "15 2016-04-29 00:00:00+00:00   15     NOVA PALESTINA            0   \n",
       "16 2016-04-29 00:00:00+00:00   50     NOVA PALESTINA            0   \n",
       "17 2016-04-29 00:00:00+00:00   40          CONQUISTA            1   \n",
       "18 2016-04-29 00:00:00+00:00   30     NOVA PALESTINA            1   \n",
       "19 2016-04-29 00:00:00+00:00   46           DA PENHA            0   \n",
       "\n",
       "    Hypertension  Diabetes  Alcoholism  Handcap  SMS_received No_show  \\\n",
       "0              1         0           0        0             0      No   \n",
       "1              0         0           0        0             0      No   \n",
       "2              0         0           0        0             0      No   \n",
       "3              0         0           0        0             0      No   \n",
       "4              1         1           0        0             0      No   \n",
       "5              1         0           0        0             0      No   \n",
       "6              0         0           0        0             0     Yes   \n",
       "7              0         0           0        0             0     Yes   \n",
       "8              0         0           0        0             0      No   \n",
       "9              0         0           0        0             0      No   \n",
       "10             0         0           0        0             0      No   \n",
       "11             0         0           0        0             1     Yes   \n",
       "12             0         0           0        0             0      No   \n",
       "13             0         0           0        0             0      No   \n",
       "14             0         0           0        0             0      No   \n",
       "15             0         0           0        0             1      No   \n",
       "16             0         0           0        0             0      No   \n",
       "17             0         0           0        0             0     Yes   \n",
       "18             0         0           0        0             1      No   \n",
       "19             0         0           0        0             0      No   \n",
       "\n",
       "        Age_group  \n",
       "0   61-80 yrs-old  \n",
       "1   41-60 yrs-old  \n",
       "2   61-80 yrs-old  \n",
       "3    <=20 yrs-old  \n",
       "4   41-60 yrs-old  \n",
       "5   61-80 yrs-old  \n",
       "6   21-40 yrs-old  \n",
       "7   21-40 yrs-old  \n",
       "8   21-40 yrs-old  \n",
       "9    <=20 yrs-old  \n",
       "10  21-40 yrs-old  \n",
       "11  21-40 yrs-old  \n",
       "12  21-40 yrs-old  \n",
       "13  21-40 yrs-old  \n",
       "14  41-60 yrs-old  \n",
       "15   <=20 yrs-old  \n",
       "16  41-60 yrs-old  \n",
       "17  21-40 yrs-old  \n",
       "18  21-40 yrs-old  \n",
       "19  41-60 yrs-old  "
      ]
     },
     "execution_count": 19,
     "metadata": {},
     "output_type": "execute_result"
    }
   ],
   "source": [
    "df.head(20)"
   ]
  },
  {
   "cell_type": "markdown",
   "id": "bf9f77f3",
   "metadata": {},
   "source": [
    "### 4. WHAT IS THE PROPORTION OF ALL THE ATTRIBUTES AND MEDICAL CONDITIONS IN THE DATASET?"
   ]
  },
  {
   "cell_type": "markdown",
   "id": "c5e31247",
   "metadata": {},
   "source": [
    "#### GENDER"
   ]
  },
  {
   "cell_type": "code",
   "execution_count": 20,
   "id": "289b0982",
   "metadata": {},
   "outputs": [
    {
     "data": {
      "text/plain": [
       "F    14594\n",
       "M     7725\n",
       "Name: Gender, dtype: int64"
      ]
     },
     "execution_count": 20,
     "metadata": {},
     "output_type": "execute_result"
    }
   ],
   "source": [
    "#PROPORTION OF MISSED APPOINTMENTS BY PATIENT'S GENDERS AS A PIECHART\n",
    "Missed_gender= df.query('No_show == \"Yes\"')['Gender'].value_counts()\n",
    "Missed_gender\n"
   ]
  },
  {
   "cell_type": "code",
   "execution_count": 21,
   "id": "eac03116",
   "metadata": {},
   "outputs": [
    {
     "data": {
      "text/plain": [
       "Text(0.5, 1.0, 'Proportion of missed appointments by gender')"
      ]
     },
     "execution_count": 21,
     "metadata": {},
     "output_type": "execute_result"
    },
    {
     "data": {
      "image/png": "[encoded data removed]",
      "text/plain": [
       "<Figure size 576x432 with 1 Axes>"
      ]
     },
     "metadata": {},
     "output_type": "display_data"
    }
   ],
   "source": [
    "#statistics of missed appointments by patients gender\n",
    "Missed_gender.plot(kind = 'pie',figsize = (8,6));\n",
    "plt.title('Proportion of missed appointments by gender')"
   ]
  },
  {
   "cell_type": "markdown",
   "id": "8a5d37b6",
   "metadata": {},
   "source": [
    "#### SCHOLARSHIP"
   ]
  },
  {
   "cell_type": "code",
   "execution_count": 22,
   "id": "3561bc73",
   "metadata": {
    "scrolled": true
   },
   "outputs": [
    {
     "data": {
      "text/plain": [
       "0    19741\n",
       "1     2578\n",
       "Name: Scholarship, dtype: int64"
      ]
     },
     "execution_count": 22,
     "metadata": {},
     "output_type": "execute_result"
    }
   ],
   "source": [
    "#statistics of missed appointments by patients with/without scholarship\n",
    "Missed_Scholarship = df.query('No_show == \"Yes\"')['Scholarship'].value_counts()\n",
    "Missed_Scholarship"
   ]
  },
  {
   "cell_type": "code",
   "execution_count": null,
   "id": "1728f1df",
   "metadata": {},
   "outputs": [],
   "source": []
  },
  {
   "cell_type": "code",
   "execution_count": 23,
   "id": "946b5bcf",
   "metadata": {},
   "outputs": [
    {
     "data": {
      "text/plain": [
       "Text(0, 0.5, 'Count')"
      ]
     },
     "execution_count": 23,
     "metadata": {},
     "output_type": "execute_result"
    },
    {
     "data": {
      "image/png": "[encoded data removed]",
      "text/plain": [
       "<Figure size 576x432 with 1 Axes>"
      ]
     },
     "metadata": {
      "needs_background": "light"
     },
     "output_type": "display_data"
    }
   ],
   "source": [
    "#PROPORTION OF MISSED APPOINTMENTS BY PATIENTS WITH/WITHOUT SCHOLARSHIPS AS A BARPLOT\n",
    "colors = ('blue','orange')\n",
    "Missed_Scholarship.plot(kind = 'bar', color = colors, figsize = (8,6));\n",
    "plt.xticks([0, 1], ['No', 'Yes']);\n",
    "plt.title('Proportion of missed appointments among patients with/without Scholarship')\n",
    "plt.xlabel('Scholarship', fontsize = 12 )\n",
    "plt.ylabel('Count', fontsize = 12)"
   ]
  },
  {
   "cell_type": "markdown",
   "id": "12ebf521",
   "metadata": {},
   "source": [
    "#### From the statistics and plot of patients with/without Scholarship shown above, the statistics shows that:\n",
    "> Patients eligible for scholarship in the Brasilian welfare program Bolsa Família are more likely to show up for their scheduled appointments, while non eligible patients are more likely to miss their appointments"
   ]
  },
  {
   "cell_type": "markdown",
   "id": "a90f09fe",
   "metadata": {},
   "source": [
    "#### HYPERTENSION"
   ]
  },
  {
   "cell_type": "code",
   "execution_count": 24,
   "id": "e234551f",
   "metadata": {},
   "outputs": [
    {
     "data": {
      "text/plain": [
       "0    18547\n",
       "1     3772\n",
       "Name: Hypertension, dtype: int64"
      ]
     },
     "execution_count": 24,
     "metadata": {},
     "output_type": "execute_result"
    }
   ],
   "source": [
    "#statistics of missed appointments among patients with/without Hypertension\n",
    "Missed_Hypertension = df.query('No_show == \"Yes\"')['Hypertension'].value_counts()\n",
    "Missed_Hypertension"
   ]
  },
  {
   "cell_type": "code",
   "execution_count": 25,
   "id": "104da69b",
   "metadata": {},
   "outputs": [
    {
     "data": {
      "text/plain": [
       "Text(0, 0.5, 'Count')"
      ]
     },
     "execution_count": 25,
     "metadata": {},
     "output_type": "execute_result"
    },
    {
     "data": {
      "image/png": "[encoded data removed]",
      "text/plain": [
       "<Figure size 576x432 with 1 Axes>"
      ]
     },
     "metadata": {
      "needs_background": "light"
     },
     "output_type": "display_data"
    }
   ],
   "source": [
    "#PROPORTION OF MISSED APPOINTMENTS BY PATIENT WITH/WITHOUT HYPERTENSION AS BAR PLOT\n",
    "Missed_Hypertension.plot(kind = 'bar', color = colors, figsize = (8,6));\n",
    "plt.xticks([0, 1], ['No', 'Yes']);\n",
    "plt.title('Proportion of missed appointments among patients with/without Hypertension')\n",
    "plt.xlabel('Hypertension', fontsize = 12 )\n",
    "plt.ylabel('Count', fontsize = 12)"
   ]
  },
  {
   "cell_type": "markdown",
   "id": "d320fe69",
   "metadata": {},
   "source": [
    "#### From the statistics and plot of patients with/without Hypertension shown above, the statistics shows that:\n",
    "> Patients ailing with Hypertension are more likely to show up for their scheduled appointments,as opposed to unaffected patients who are more likely to miss their appointments"
   ]
  },
  {
   "cell_type": "markdown",
   "id": "96be945e",
   "metadata": {},
   "source": [
    "#### DIABETES"
   ]
  },
  {
   "cell_type": "code",
   "execution_count": 26,
   "id": "5f4aba2b",
   "metadata": {},
   "outputs": [
    {
     "data": {
      "text/plain": [
       "0    20889\n",
       "1     1430\n",
       "Name: Diabetes, dtype: int64"
      ]
     },
     "execution_count": 26,
     "metadata": {},
     "output_type": "execute_result"
    }
   ],
   "source": [
    "#statistics of missed appointments by patients with/without diabetes\n",
    "Missed_diabetes = df.query('No_show == \"Yes\"')['Diabetes'].value_counts()\n",
    "Missed_diabetes"
   ]
  },
  {
   "cell_type": "code",
   "execution_count": 27,
   "id": "fb850fef",
   "metadata": {},
   "outputs": [
    {
     "data": {
      "text/plain": [
       "Text(0, 0.5, 'Count')"
      ]
     },
     "execution_count": 27,
     "metadata": {},
     "output_type": "execute_result"
    },
    {
     "data": {
      "image/png": "[encoded data removed]",
      "text/plain": [
       "<Figure size 576x432 with 1 Axes>"
      ]
     },
     "metadata": {
      "needs_background": "light"
     },
     "output_type": "display_data"
    }
   ],
   "source": [
    "#PROPORTION OF MISSED APPOINTMENTS AMONG PATIENTS WITH DIABETES AS A BARPLOT\n",
    "Missed_diabetes.plot(kind = 'bar', color = colors, figsize = (8,6));\n",
    "plt.xticks([0, 1], ['No', 'Yes']);\n",
    "plt.title('Proportion of missed appointments among patients with/without Diabetes')\n",
    "plt.xlabel('Diabetes', fontsize = 12 )\n",
    "plt.ylabel('Count', fontsize = 12)"
   ]
  },
  {
   "cell_type": "markdown",
   "id": "fc3da0f5",
   "metadata": {},
   "source": [
    "#### From the statistics and plot of patients with/without Diabetes shown above, the statistics shows that:\n",
    ">1. Patients ailing with Diabetes are more likely to show up for their scheduled appointments,as opposed to unaffected patients who are more likely to miss their appointments"
   ]
  },
  {
   "cell_type": "markdown",
   "id": "3d1eccd6",
   "metadata": {},
   "source": [
    "#### ALCOHOLISM"
   ]
  },
  {
   "cell_type": "code",
   "execution_count": 28,
   "id": "4ddec05a",
   "metadata": {},
   "outputs": [
    {
     "data": {
      "text/plain": [
       "0    21642\n",
       "1      677\n",
       "Name: Alcoholism, dtype: int64"
      ]
     },
     "execution_count": 28,
     "metadata": {},
     "output_type": "execute_result"
    }
   ],
   "source": [
    "#statistics of missed appointments among patients with/without Alcoholism\n",
    "Missed_Alcoholism = df.query('No_show == \"Yes\"')['Alcoholism'].value_counts()\n",
    "Missed_Alcoholism"
   ]
  },
  {
   "cell_type": "code",
   "execution_count": 29,
   "id": "ac5ae3d2",
   "metadata": {},
   "outputs": [
    {
     "data": {
      "text/plain": [
       "Text(0, 0.5, 'Count')"
      ]
     },
     "execution_count": 29,
     "metadata": {},
     "output_type": "execute_result"
    },
    {
     "data": {
      "image/png": "[encoded data removed]",
      "text/plain": [
       "<Figure size 576x432 with 1 Axes>"
      ]
     },
     "metadata": {
      "needs_background": "light"
     },
     "output_type": "display_data"
    }
   ],
   "source": [
    "#PROPORTION OF MISSED APPOINTMENTS AMONG PATIENTS WITH ALCOHOLISM AS A BARPLOT\n",
    "Missed_Alcoholism.plot(kind = 'bar', color = colors, figsize = (8,6));\n",
    "plt.xticks([0, 1], ['No', 'Yes']);\n",
    "plt.title('Proportion of Alcoholism among patients with/without Alcoholism')\n",
    "plt.xlabel('Alcoholism', fontsize = 12 )\n",
    "plt.ylabel('Count', fontsize = 12)"
   ]
  },
  {
   "cell_type": "markdown",
   "id": "6a2f7773",
   "metadata": {},
   "source": [
    "#### From the statistics and plot of patients with/without Alcoholism shown above, the statistics shows that:\n",
    "> Patients battling with issues of Alcoholism are more likely to show up for their scheduled appointments,as opposed to unaffected patients who are more likely to miss their appointments"
   ]
  },
  {
   "cell_type": "markdown",
   "id": "d53c23f1",
   "metadata": {},
   "source": [
    "#### HANDCAP"
   ]
  },
  {
   "cell_type": "code",
   "execution_count": 30,
   "id": "94983619",
   "metadata": {},
   "outputs": [
    {
     "data": {
      "text/plain": [
       "0    21912\n",
       "1      366\n",
       "2       37\n",
       "3        3\n",
       "4        1\n",
       "Name: Handcap, dtype: int64"
      ]
     },
     "execution_count": 30,
     "metadata": {},
     "output_type": "execute_result"
    }
   ],
   "source": [
    "#statistics of missed appointments among handicapped patients\n",
    "Missed_handcap = df.query('No_show == \"Yes\"')['Handcap'].value_counts()\n",
    "Missed_handcap"
   ]
  },
  {
   "cell_type": "code",
   "execution_count": 31,
   "id": "1a24e33f",
   "metadata": {},
   "outputs": [
    {
     "data": {
      "text/plain": [
       "Text(0, 0.5, 'Count')"
      ]
     },
     "execution_count": 31,
     "metadata": {},
     "output_type": "execute_result"
    },
    {
     "data": {
      "image/png": "[encoded data removed]",
      "text/plain": [
       "<Figure size 576x432 with 1 Axes>"
      ]
     },
     "metadata": {
      "needs_background": "light"
     },
     "output_type": "display_data"
    }
   ],
   "source": [
    "#PROPORTION OF MISSED APPOINTMENTS AMONG HANDICAP PATIENTS AS A BARPLOT\n",
    "Missed_handcap.plot(kind = 'bar', color = colors, figsize = (8,6));\n",
    "plt.title('Proportion of missed appointments among Handicapped patients')\n",
    "plt.xlabel('Handcap', fontsize = 12 )\n",
    "plt.ylabel('Count', fontsize = 12)"
   ]
  },
  {
   "cell_type": "markdown",
   "id": "0fc4ab3b",
   "metadata": {},
   "source": [
    "#### From the statistics and plot of Handicapped patients shown above, the statistics shows that:\n",
    "> Handicapped patients are more likely to show up for their scheduled appointments,as opposed to unaffected patients without any impairments who are more likely to miss their appointments"
   ]
  },
  {
   "cell_type": "markdown",
   "id": "0cee24c9",
   "metadata": {},
   "source": [
    "#### SMS_RECEIVED"
   ]
  },
  {
   "cell_type": "code",
   "execution_count": 32,
   "id": "ad9eaada",
   "metadata": {},
   "outputs": [
    {
     "data": {
      "text/plain": [
       "0    12535\n",
       "1     9784\n",
       "Name: SMS_received, dtype: int64"
      ]
     },
     "execution_count": 32,
     "metadata": {},
     "output_type": "execute_result"
    }
   ],
   "source": [
    "#Statistics of appointments missed by patients that received an SMS prior to their appointment\n",
    "Missed_SMS = df.query('No_show == \"Yes\"')['SMS_received'].value_counts()\n",
    "Missed_SMS"
   ]
  },
  {
   "cell_type": "code",
   "execution_count": 33,
   "id": "d7f367a1",
   "metadata": {
    "scrolled": true
   },
   "outputs": [
    {
     "data": {
      "text/plain": [
       "Text(0, 0.5, 'Count')"
      ]
     },
     "execution_count": 33,
     "metadata": {},
     "output_type": "execute_result"
    },
    {
     "data": {
      "image/png": "[encoded data removed]",
      "text/plain": [
       "<Figure size 576x432 with 1 Axes>"
      ]
     },
     "metadata": {
      "needs_background": "light"
     },
     "output_type": "display_data"
    }
   ],
   "source": [
    "#Proportion of appointments missed by patients that received an SMS prior to their appointment AS A BARPLOT\n",
    "Missed_SMS.plot(kind = 'bar', color = colors, figsize = (8,6));\n",
    "plt.xticks([0, 1], ['No', 'Yes']);\n",
    "plt.title('Proportion of appointments missed by patients that received an SMS prior to their appointment')\n",
    "plt.xlabel('SMS_received', fontsize = 12 )\n",
    "plt.ylabel('Count', fontsize = 12)"
   ]
  },
  {
   "cell_type": "code",
   "execution_count": null,
   "id": "655c074f",
   "metadata": {},
   "outputs": [],
   "source": []
  },
  {
   "cell_type": "markdown",
   "id": "38db8312",
   "metadata": {},
   "source": [
    "#### From the statistics and plot of patients with/without Alcoholism shown above, the statistics shows that:\n",
    "> While patients who weren't prompted about their scheduled appointments through an SMS message are more likely to show up for their scheduled appointments, a substantial number of patients that got an SMS message still missed their appointments with only a ~20 difference in the number of patients that got an SMS and those that didn't."
   ]
  },
  {
   "cell_type": "markdown",
   "id": "18236b1e",
   "metadata": {},
   "source": [
    "### 5. WHAT IS THE RELATIONSHIP BETWEEN AGE/GENDER  AND DIABETIC CONDITIONS OF PATIENTS"
   ]
  },
  {
   "cell_type": "code",
   "execution_count": 34,
   "id": "60ee83d2",
   "metadata": {
    "scrolled": true
   },
   "outputs": [
    {
     "data": {
      "text/html": [
       "<div>\n",
       "<style scoped>\n",
       "    .dataframe tbody tr th:only-of-type {\n",
       "        vertical-align: middle;\n",
       "    }\n",
       "\n",
       "    .dataframe tbody tr th {\n",
       "        vertical-align: top;\n",
       "    }\n",
       "\n",
       "    .dataframe thead th {\n",
       "        text-align: right;\n",
       "    }\n",
       "</style>\n",
       "<table border=\"1\" class=\"dataframe\">\n",
       "  <thead>\n",
       "    <tr style=\"text-align: right;\">\n",
       "      <th></th>\n",
       "      <th>PatientId</th>\n",
       "      <th>AppointmentID</th>\n",
       "      <th>Gender</th>\n",
       "      <th>ScheduledDay</th>\n",
       "      <th>AppointmentDay</th>\n",
       "      <th>Age</th>\n",
       "      <th>Neighbourhood</th>\n",
       "      <th>Scholarship</th>\n",
       "      <th>Hypertension</th>\n",
       "      <th>Diabetes</th>\n",
       "      <th>Alcoholism</th>\n",
       "      <th>Handcap</th>\n",
       "      <th>SMS_received</th>\n",
       "      <th>No_show</th>\n",
       "      <th>Age_group</th>\n",
       "    </tr>\n",
       "  </thead>\n",
       "  <tbody>\n",
       "    <tr>\n",
       "      <th>4</th>\n",
       "      <td>8841186448183.0</td>\n",
       "      <td>5642494</td>\n",
       "      <td>F</td>\n",
       "      <td>2016-04-29 16:07:23+00:00</td>\n",
       "      <td>2016-04-29 00:00:00+00:00</td>\n",
       "      <td>56</td>\n",
       "      <td>JARDIM DA PENHA</td>\n",
       "      <td>0</td>\n",
       "      <td>1</td>\n",
       "      <td>1</td>\n",
       "      <td>0</td>\n",
       "      <td>0</td>\n",
       "      <td>0</td>\n",
       "      <td>No</td>\n",
       "      <td>41-60 yrs-old</td>\n",
       "    </tr>\n",
       "    <tr>\n",
       "      <th>36</th>\n",
       "      <td>72984587621439.0</td>\n",
       "      <td>5637975</td>\n",
       "      <td>F</td>\n",
       "      <td>2016-04-29 07:35:19+00:00</td>\n",
       "      <td>2016-04-29 00:00:00+00:00</td>\n",
       "      <td>63</td>\n",
       "      <td>SÃO CRISTÓVÃO</td>\n",
       "      <td>0</td>\n",
       "      <td>1</td>\n",
       "      <td>1</td>\n",
       "      <td>0</td>\n",
       "      <td>0</td>\n",
       "      <td>0</td>\n",
       "      <td>No</td>\n",
       "      <td>61-80 yrs-old</td>\n",
       "    </tr>\n",
       "    <tr>\n",
       "      <th>37</th>\n",
       "      <td>1578131861739.0</td>\n",
       "      <td>5637986</td>\n",
       "      <td>F</td>\n",
       "      <td>2016-04-29 07:35:56+00:00</td>\n",
       "      <td>2016-04-29 00:00:00+00:00</td>\n",
       "      <td>64</td>\n",
       "      <td>TABUAZEIRO</td>\n",
       "      <td>1</td>\n",
       "      <td>1</td>\n",
       "      <td>1</td>\n",
       "      <td>0</td>\n",
       "      <td>0</td>\n",
       "      <td>0</td>\n",
       "      <td>No</td>\n",
       "      <td>61-80 yrs-old</td>\n",
       "    </tr>\n",
       "    <tr>\n",
       "      <th>41</th>\n",
       "      <td>822432466381793.0</td>\n",
       "      <td>5633339</td>\n",
       "      <td>F</td>\n",
       "      <td>2016-04-28 09:20:36+00:00</td>\n",
       "      <td>2016-04-29 00:00:00+00:00</td>\n",
       "      <td>71</td>\n",
       "      <td>MARUÍPE</td>\n",
       "      <td>0</td>\n",
       "      <td>0</td>\n",
       "      <td>1</td>\n",
       "      <td>0</td>\n",
       "      <td>0</td>\n",
       "      <td>0</td>\n",
       "      <td>No</td>\n",
       "      <td>61-80 yrs-old</td>\n",
       "    </tr>\n",
       "    <tr>\n",
       "      <th>44</th>\n",
       "      <td>274164858852.0</td>\n",
       "      <td>5635414</td>\n",
       "      <td>F</td>\n",
       "      <td>2016-04-28 13:27:27+00:00</td>\n",
       "      <td>2016-04-29 00:00:00+00:00</td>\n",
       "      <td>78</td>\n",
       "      <td>SÃO CRISTÓVÃO</td>\n",
       "      <td>0</td>\n",
       "      <td>1</td>\n",
       "      <td>1</td>\n",
       "      <td>0</td>\n",
       "      <td>0</td>\n",
       "      <td>0</td>\n",
       "      <td>Yes</td>\n",
       "      <td>61-80 yrs-old</td>\n",
       "    </tr>\n",
       "    <tr>\n",
       "      <th>...</th>\n",
       "      <td>...</td>\n",
       "      <td>...</td>\n",
       "      <td>...</td>\n",
       "      <td>...</td>\n",
       "      <td>...</td>\n",
       "      <td>...</td>\n",
       "      <td>...</td>\n",
       "      <td>...</td>\n",
       "      <td>...</td>\n",
       "      <td>...</td>\n",
       "      <td>...</td>\n",
       "      <td>...</td>\n",
       "      <td>...</td>\n",
       "      <td>...</td>\n",
       "      <td>...</td>\n",
       "    </tr>\n",
       "    <tr>\n",
       "      <th>110448</th>\n",
       "      <td>262918365834899.0</td>\n",
       "      <td>5756082</td>\n",
       "      <td>F</td>\n",
       "      <td>2016-06-01 07:56:41+00:00</td>\n",
       "      <td>2016-06-06 00:00:00+00:00</td>\n",
       "      <td>40</td>\n",
       "      <td>RESISTÊNCIA</td>\n",
       "      <td>0</td>\n",
       "      <td>1</td>\n",
       "      <td>1</td>\n",
       "      <td>0</td>\n",
       "      <td>0</td>\n",
       "      <td>1</td>\n",
       "      <td>No</td>\n",
       "      <td>21-40 yrs-old</td>\n",
       "    </tr>\n",
       "    <tr>\n",
       "      <th>110456</th>\n",
       "      <td>4994741664898.0</td>\n",
       "      <td>5772107</td>\n",
       "      <td>F</td>\n",
       "      <td>2016-06-03 14:34:46+00:00</td>\n",
       "      <td>2016-06-03 00:00:00+00:00</td>\n",
       "      <td>79</td>\n",
       "      <td>RESISTÊNCIA</td>\n",
       "      <td>0</td>\n",
       "      <td>1</td>\n",
       "      <td>1</td>\n",
       "      <td>0</td>\n",
       "      <td>0</td>\n",
       "      <td>0</td>\n",
       "      <td>No</td>\n",
       "      <td>61-80 yrs-old</td>\n",
       "    </tr>\n",
       "    <tr>\n",
       "      <th>110468</th>\n",
       "      <td>322747477995.0</td>\n",
       "      <td>5763322</td>\n",
       "      <td>F</td>\n",
       "      <td>2016-06-02 08:49:21+00:00</td>\n",
       "      <td>2016-06-07 00:00:00+00:00</td>\n",
       "      <td>76</td>\n",
       "      <td>RESISTÊNCIA</td>\n",
       "      <td>0</td>\n",
       "      <td>1</td>\n",
       "      <td>1</td>\n",
       "      <td>0</td>\n",
       "      <td>0</td>\n",
       "      <td>1</td>\n",
       "      <td>No</td>\n",
       "      <td>61-80 yrs-old</td>\n",
       "    </tr>\n",
       "    <tr>\n",
       "      <th>110477</th>\n",
       "      <td>27984936871939.0</td>\n",
       "      <td>5673472</td>\n",
       "      <td>F</td>\n",
       "      <td>2016-05-09 09:24:09+00:00</td>\n",
       "      <td>2016-06-06 00:00:00+00:00</td>\n",
       "      <td>67</td>\n",
       "      <td>RESISTÊNCIA</td>\n",
       "      <td>0</td>\n",
       "      <td>0</td>\n",
       "      <td>1</td>\n",
       "      <td>0</td>\n",
       "      <td>0</td>\n",
       "      <td>1</td>\n",
       "      <td>No</td>\n",
       "      <td>61-80 yrs-old</td>\n",
       "    </tr>\n",
       "    <tr>\n",
       "      <th>110499</th>\n",
       "      <td>821969177626116.0</td>\n",
       "      <td>5757697</td>\n",
       "      <td>F</td>\n",
       "      <td>2016-06-01 09:42:56+00:00</td>\n",
       "      <td>2016-06-01 00:00:00+00:00</td>\n",
       "      <td>66</td>\n",
       "      <td>MARIA ORTIZ</td>\n",
       "      <td>0</td>\n",
       "      <td>1</td>\n",
       "      <td>1</td>\n",
       "      <td>0</td>\n",
       "      <td>0</td>\n",
       "      <td>0</td>\n",
       "      <td>No</td>\n",
       "      <td>61-80 yrs-old</td>\n",
       "    </tr>\n",
       "  </tbody>\n",
       "</table>\n",
       "<p>7943 rows × 15 columns</p>\n",
       "</div>"
      ],
      "text/plain": [
       "                PatientId AppointmentID Gender              ScheduledDay  \\\n",
       "4         8841186448183.0       5642494      F 2016-04-29 16:07:23+00:00   \n",
       "36       72984587621439.0       5637975      F 2016-04-29 07:35:19+00:00   \n",
       "37        1578131861739.0       5637986      F 2016-04-29 07:35:56+00:00   \n",
       "41      822432466381793.0       5633339      F 2016-04-28 09:20:36+00:00   \n",
       "44         274164858852.0       5635414      F 2016-04-28 13:27:27+00:00   \n",
       "...                   ...           ...    ...                       ...   \n",
       "110448  262918365834899.0       5756082      F 2016-06-01 07:56:41+00:00   \n",
       "110456    4994741664898.0       5772107      F 2016-06-03 14:34:46+00:00   \n",
       "110468     322747477995.0       5763322      F 2016-06-02 08:49:21+00:00   \n",
       "110477   27984936871939.0       5673472      F 2016-05-09 09:24:09+00:00   \n",
       "110499  821969177626116.0       5757697      F 2016-06-01 09:42:56+00:00   \n",
       "\n",
       "                  AppointmentDay  Age    Neighbourhood  Scholarship  \\\n",
       "4      2016-04-29 00:00:00+00:00   56  JARDIM DA PENHA            0   \n",
       "36     2016-04-29 00:00:00+00:00   63    SÃO CRISTÓVÃO            0   \n",
       "37     2016-04-29 00:00:00+00:00   64       TABUAZEIRO            1   \n",
       "41     2016-04-29 00:00:00+00:00   71          MARUÍPE            0   \n",
       "44     2016-04-29 00:00:00+00:00   78    SÃO CRISTÓVÃO            0   \n",
       "...                          ...  ...              ...          ...   \n",
       "110448 2016-06-06 00:00:00+00:00   40      RESISTÊNCIA            0   \n",
       "110456 2016-06-03 00:00:00+00:00   79      RESISTÊNCIA            0   \n",
       "110468 2016-06-07 00:00:00+00:00   76      RESISTÊNCIA            0   \n",
       "110477 2016-06-06 00:00:00+00:00   67      RESISTÊNCIA            0   \n",
       "110499 2016-06-01 00:00:00+00:00   66      MARIA ORTIZ            0   \n",
       "\n",
       "        Hypertension  Diabetes  Alcoholism  Handcap  SMS_received No_show  \\\n",
       "4                  1         1           0        0             0      No   \n",
       "36                 1         1           0        0             0      No   \n",
       "37                 1         1           0        0             0      No   \n",
       "41                 0         1           0        0             0      No   \n",
       "44                 1         1           0        0             0     Yes   \n",
       "...              ...       ...         ...      ...           ...     ...   \n",
       "110448             1         1           0        0             1      No   \n",
       "110456             1         1           0        0             0      No   \n",
       "110468             1         1           0        0             1      No   \n",
       "110477             0         1           0        0             1      No   \n",
       "110499             1         1           0        0             0      No   \n",
       "\n",
       "            Age_group  \n",
       "4       41-60 yrs-old  \n",
       "36      61-80 yrs-old  \n",
       "37      61-80 yrs-old  \n",
       "41      61-80 yrs-old  \n",
       "44      61-80 yrs-old  \n",
       "...               ...  \n",
       "110448  21-40 yrs-old  \n",
       "110456  61-80 yrs-old  \n",
       "110468  61-80 yrs-old  \n",
       "110477  61-80 yrs-old  \n",
       "110499  61-80 yrs-old  \n",
       "\n",
       "[7943 rows x 15 columns]"
      ]
     },
     "execution_count": 34,
     "metadata": {},
     "output_type": "execute_result"
    }
   ],
   "source": [
    "#Filter the dataset to capture only diabetic patients\n",
    "Diabetic_patients = df[df['Diabetes'] == 1]\n",
    "Diabetic_patients"
   ]
  },
  {
   "cell_type": "code",
   "execution_count": 35,
   "id": "d6bd40ea",
   "metadata": {},
   "outputs": [
    {
     "data": {
      "text/plain": [
       "Gender\n",
       "F    5606\n",
       "M    2337\n",
       "Name: Diabetes, dtype: int64"
      ]
     },
     "execution_count": 35,
     "metadata": {},
     "output_type": "execute_result"
    }
   ],
   "source": [
    "#Total count of diabetic patient by gender\n",
    "Gender_totals = Diabetic_patients.groupby('Gender').count()['Diabetes']\n",
    "Gender_totals"
   ]
  },
  {
   "cell_type": "markdown",
   "id": "ddc975b7",
   "metadata": {},
   "source": [
    "> There is an overall higher number of female patients with diabetic condition than male patients"
   ]
  },
  {
   "cell_type": "code",
   "execution_count": 36,
   "id": "d9236e30",
   "metadata": {},
   "outputs": [
    {
     "data": {
      "text/plain": [
       "Gender  Age_group     \n",
       "F       21-40 yrs-old      379\n",
       "        41-60 yrs-old     2080\n",
       "        61-80 yrs-old     2676\n",
       "        81-100 yrs-old     426\n",
       "        <=20 yrs-old        45\n",
       "M       21-40 yrs-old      128\n",
       "        41-60 yrs-old      908\n",
       "        61-80 yrs-old     1125\n",
       "        81-100 yrs-old     160\n",
       "        <=20 yrs-old        16\n",
       "Name: Diabetes, dtype: int64"
      ]
     },
     "execution_count": 36,
     "metadata": {},
     "output_type": "execute_result"
    }
   ],
   "source": [
    "#Count of diabetic patient by age group and gender\n",
    "Age_gender_count = Diabetic_patients.groupby(['Gender','Age_group']).count()['Diabetes']\n",
    "Age_gender_count"
   ]
  },
  {
   "cell_type": "code",
   "execution_count": 37,
   "id": "9fef7b43",
   "metadata": {},
   "outputs": [
    {
     "data": {
      "text/plain": [
       "Series([], dtype: int64)"
      ]
     },
     "execution_count": 37,
     "metadata": {},
     "output_type": "execute_result"
    }
   ],
   "source": [
    "#Verifying to confirm that the age_group 101-120yrs old registered no diabetic patient\n",
    "Diabetic_patients.query('Age_group == \"101-120 yrs-old\"').value_counts()"
   ]
  },
  {
   "cell_type": "code",
   "execution_count": 38,
   "id": "cf21e2c9",
   "metadata": {},
   "outputs": [
    {
     "data": {
      "text/plain": [
       "Age_group\n",
       "21-40 yrs-old      379\n",
       "41-60 yrs-old     2080\n",
       "61-80 yrs-old     2676\n",
       "81-100 yrs-old     426\n",
       "<=20 yrs-old        45\n",
       "Name: Diabetes, dtype: int64"
      ]
     },
     "execution_count": 38,
     "metadata": {},
     "output_type": "execute_result"
    }
   ],
   "source": [
    "#get the count of female diabetic patients in each age group\n",
    "Female_count = Age_gender_count['F']\n",
    "Female_count"
   ]
  },
  {
   "cell_type": "code",
   "execution_count": 39,
   "id": "cebbeeb6",
   "metadata": {},
   "outputs": [
    {
     "data": {
      "text/plain": [
       "Age_group\n",
       "21-40 yrs-old      128\n",
       "41-60 yrs-old      908\n",
       "61-80 yrs-old     1125\n",
       "81-100 yrs-old     160\n",
       "<=20 yrs-old        16\n",
       "Name: Diabetes, dtype: int64"
      ]
     },
     "execution_count": 39,
     "metadata": {},
     "output_type": "execute_result"
    }
   ],
   "source": [
    "#get the count of male diabetic patients in each age group\n",
    "Male_count = Age_gender_count['M']\n",
    "Male_count"
   ]
  },
  {
   "cell_type": "code",
   "execution_count": 40,
   "id": "edda23c9",
   "metadata": {},
   "outputs": [],
   "source": [
    "ind = np.arange(len(Female_count))  # the x locations for the groups\n",
    "width = 0.35       # the width of the bars"
   ]
  },
  {
   "cell_type": "code",
   "execution_count": 41,
   "id": "ea2ad471",
   "metadata": {},
   "outputs": [
    {
     "data": {
      "text/plain": [
       "<matplotlib.legend.Legend at 0x7fcecb4019d0>"
      ]
     },
     "execution_count": 41,
     "metadata": {},
     "output_type": "execute_result"
    },
    {
     "data": {
      "image/png": "[encoded data removed]",
      "text/plain": [
       "<Figure size 432x288 with 1 Axes>"
      ]
     },
     "metadata": {
      "needs_background": "light"
     },
     "output_type": "display_data"
    }
   ],
   "source": [
    "# plot bars\n",
    "plt.bar(ind, Female_count, width, color='g', alpha=.7, label='Females');\n",
    "plt.bar(ind + width, Male_count, width, color='b', alpha=.7, label='Males');\n",
    "\n",
    "# title and labels\n",
    "plt.ylabel('Count')\n",
    "plt.xlabel('Age_groups')\n",
    "plt.title('count of diabetic patients by Age_group & Gender')\n",
    "locations = ind + width / 2  # xtick locations\n",
    "labels = ['<=20 yrs-old','21-40 yrs-old','41-60 yrs-old','61-80 yrs-old', '81-100 yrs-old']  # xtick labels\n",
    "plt.xticks(locations, labels,rotation = 60)\n",
    "\n",
    "# legend\n",
    "plt.legend()"
   ]
  },
  {
   "cell_type": "code",
   "execution_count": 48,
   "id": "1bd488db",
   "metadata": {},
   "outputs": [
    {
     "data": {
      "text/plain": [
       "<matplotlib.legend.Legend at 0x7fcecdc0a760>"
      ]
     },
     "execution_count": 48,
     "metadata": {},
     "output_type": "execute_result"
    },
    {
     "data": {
      "image/png": "[encoded data removed]",
      "text/plain": [
       "<Figure size 432x288 with 1 Axes>"
      ]
     },
     "metadata": {
      "needs_background": "light"
     },
     "output_type": "display_data"
    }
   ],
   "source": [
    "# plot Line Chart\n",
    "plt.plot(ind, Female_count, width, color='g', alpha=.7, label='Females');\n",
    "plt.plot(ind + width, Male_count, width, color='b', alpha=.7, label='Males');\n",
    "\n",
    "# title and labels\n",
    "plt.ylabel('Count')\n",
    "plt.xlabel('Age_groups')\n",
    "plt.title('count of diabetic patients by Age_group & Gender')\n",
    "locations = ind + width / 2  # xtick locations\n",
    "labels = ['<=20 yrs-old','21-40 yrs-old','41-60 yrs-old','61-80 yrs-old', '81-100 yrs-old']  # xtick labels\n",
    "plt.xticks(locations, labels,rotation = 60)\n",
    "\n",
    "# legend\n",
    "plt.legend(['Females','','','Males'])"
   ]
  },
  {
   "cell_type": "markdown",
   "id": "50d36353",
   "metadata": {},
   "source": [
    "#### From the statistics and plot shown above, the statistics shows that:\n",
    ">***Throughout all the age groups visiting the hospital, middle aged patients had more count of diabetic conditions than other age groups***\n",
    "\n",
    ">***There is an overall higher number of female patients suffering from diabetes than male patients throughout all the age groups***\n",
    "\n",
    ">***Diabetic conditions decreased with age, after 41-60yrs***"
   ]
  },
  {
   "cell_type": "markdown",
   "id": "3577f194",
   "metadata": {},
   "source": [
    "### CONCLUSION\n",
    "\n",
    ">***Younger patients <20 years old have an higher overall number of appointments,there are more Younger patients visiting the hospital than older patients***\n",
    "\n",
    ">***Number of appointments decreases with increasing Age group***\n",
    "\n",
    ">***Female patients are more likely to miss their appointments than male patients***\n",
    "\n",
    ">***Patients eligible for scholarship in the Brasilian welfare program Bolsa Família are more likely to show up for their scheduled appointments***\n",
    "\n",
    ">***Majority of the patients ailing one disease or medical condition are more likely to show up for their appointments***\n",
    "\n",
    ">***Patients that got an SMS are more less likely to miss their appointments***\n",
    "\n",
    ">***Throughout all the age groups visiting the hospital, middle aged patients had more count of diabetic conditions than other age groups***\n",
    "\n",
    ">***There is an overall higher number of female patients suffering from diabetes than male patients throughout all the age groups***\n",
    "\n",
    ">***Diabetic conditions decreased with age, after 41-60yrs***"
   ]
  },
  {
   "cell_type": "code",
   "execution_count": null,
   "id": "a48b26cd",
   "metadata": {},
   "outputs": [],
   "source": []
  }
 ],
 "metadata": {
  "kernelspec": {
   "display_name": "Python 3",
   "language": "python",
   "name": "python3"
  },
  "language_info": {
   "codemirror_mode": {
    "name": "ipython",
    "version": 3
   },
   "file_extension": ".py",
   "mimetype": "text/x-python",
   "name": "python",
   "nbconvert_exporter": "python",
   "pygments_lexer": "ipython3",
   "version": "3.8.8"
  }
 },
 "nbformat": 4,
 "nbformat_minor": 5
}
